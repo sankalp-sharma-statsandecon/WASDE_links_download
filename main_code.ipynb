{
  "nbformat": 4,
  "nbformat_minor": 0,
  "metadata": {
    "colab": {
      "provenance": [],
      "authorship_tag": "ABX9TyPFF/u2ipTotbWX07KjuPUn",
      "include_colab_link": true
    },
    "kernelspec": {
      "name": "python3",
      "display_name": "Python 3"
    },
    "language_info": {
      "name": "python"
    }
  },
  "cells": [
    {
      "cell_type": "markdown",
      "metadata": {
        "id": "view-in-github",
        "colab_type": "text"
      },
      "source": [
        "<a href=\"https://colab.research.google.com/github/sankalp-sharma-statsandecon/WASDE_links_download/blob/main/main_code.ipynb\" target=\"_parent\"><img src=\"https://colab.research.google.com/assets/colab-badge.svg\" alt=\"Open In Colab\"/></a>"
      ]
    },
    {
      "cell_type": "code",
      "execution_count": 8,
      "metadata": {
        "id": "BUp8GWxJ8ucP"
      },
      "outputs": [],
      "source": [
        "import requests\n",
        "import pandas as pd\n",
        "from io import StringIO\n",
        "import zipfile\n",
        "import os"
      ]
    },
    {
      "cell_type": "code",
      "source": [
        "base_url = 'https://www.usda.gov/sites/default/files/documents/oce-wasde-report-data-'\n",
        "csv_urls = []\n",
        "\n",
        "# Specify the years and months you're interested in\n",
        "years = [2023, 2022, 2021]\n",
        "months = [f\"{i:02d}\" for i in range(1, 13)]\n",
        "\n",
        "# Generate URLs\n",
        "for year in years:\n",
        "    for month in months:\n",
        "        csv_url = f'{base_url}{year}-{month}.csv'\n",
        "        csv_urls.append(csv_url)\n",
        "\n",
        "# Print or use the generated URLs\n",
        "for url in csv_urls:\n",
        "    print(url)\n"
      ],
      "metadata": {
        "id": "SLfupjhmASmB"
      },
      "execution_count": null,
      "outputs": []
    },
    {
      "cell_type": "code",
      "source": [
        "destination_folder = '/content/sample_data'\n",
        "zip_file_name = 'combined_files.zip'\n",
        "zip_file_path = os.path.join(destination_folder, zip_file_name)"
      ],
      "metadata": {
        "id": "F07kVdxi83_k"
      },
      "execution_count": 12,
      "outputs": []
    },
    {
      "cell_type": "code",
      "source": [
        "# Create a zip file\n",
        "with zipfile.ZipFile(zip_file_path, 'w') as zip_file:\n",
        "    # Loop through each CSV URL\n",
        "    for csv_url in csv_urls:\n",
        "        # Download CSV data\n",
        "        response = requests.get(csv_url)\n",
        "\n",
        "        # Check if the request was successful (status code 200)\n",
        "        if response.status_code == 200:\n",
        "            # Read CSV data into a Pandas DataFrame\n",
        "            csv_data = pd.read_csv(StringIO(response.text))\n",
        "\n",
        "            # Extract the file name from the URL\n",
        "            file_name = csv_url.split('/')[-1]\n",
        "\n",
        "            # Save the DataFrame to a CSV file in the destination folder\n",
        "            csv_file_path = os.path.join(destination_folder, file_name)\n",
        "            csv_data.to_csv(csv_file_path, index=False)\n",
        "\n",
        "            # Add the CSV file to the zip file\n",
        "            zip_file.write(csv_file_path, file_name)\n",
        "\n",
        "            # Remove the individual CSV file after adding it to the zip file\n",
        "            os.remove(csv_file_path)\n",
        "\n",
        "            print(f\"File {file_name} saved and added to the zip file successfully.\")\n",
        "        else:\n",
        "            print(f\"Failed to download file from {csv_url}. Status code: {response.status_code}\")\n",
        "\n",
        "# Print the path to the created zip file\n",
        "print(f\"Combined files saved in: {zip_file_path}\")"
      ],
      "metadata": {
        "id": "5K_S4nn-9WbS"
      },
      "execution_count": null,
      "outputs": []
    }
  ]
}